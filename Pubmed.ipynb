{
 "cells": [
  {
   "cell_type": "code",
   "execution_count": 1,
   "metadata": {
    "collapsed": true
   },
   "outputs": [],
   "source": [
    "from Bio import Entrez as en"
   ]
  },
  {
   "cell_type": "code",
   "execution_count": 2,
   "metadata": {
    "collapsed": true
   },
   "outputs": [],
   "source": [
    "en.email = \"alun@mail.tcu.edu.tw\""
   ]
  },
  {
   "cell_type": "code",
   "execution_count": 3,
   "metadata": {
    "collapsed": true
   },
   "outputs": [],
   "source": [
    "# Search all database\n",
    "skey = \"clinical trial colon cancer\"\n",
    "handle = en.egquery(term=skey)\n",
    "record = en.read(handle)"
   ]
  },
  {
   "cell_type": "code",
   "execution_count": 4,
   "metadata": {
    "collapsed": false
   },
   "outputs": [
    {
     "name": "stdout",
     "output_type": "stream",
     "text": [
      "{u'Term': 'clinical trial colon cancer', u'eGQueryResult': [{u'Count': '5680', u'Status': 'Ok', u'MenuName': 'PubMed', u'DbName': 'pubmed'}, {u'Count': '24999', u'Status': 'Ok', u'MenuName': 'PubMed Central', u'DbName': 'pmc'}, {u'Count': '0', u'Status': 'Term or Database is not found', u'MenuName': 'MeSH', u'DbName': 'mesh'}, {u'Count': '1501', u'Status': 'Ok', u'MenuName': 'Books', u'DbName': 'books'}, {u'Count': '733', u'Status': 'Ok', u'MenuName': 'PubMed Health', u'DbName': 'pubmedhealth'}, {u'Count': '16', u'Status': 'Ok', u'MenuName': 'OMIM', u'DbName': 'omim'}, {u'Count': '4', u'Status': 'Ok', u'MenuName': 'Site Search', u'DbName': 'ncbisearch'}, {u'Count': '0', u'Status': 'Term or Database is not found', u'MenuName': 'Nucleotide', u'DbName': 'nuccore'}, {u'Count': '0', u'Status': 'Term or Database is not found', u'MenuName': 'GSS', u'DbName': 'nucgss'}, {u'Count': '0', u'Status': 'Term or Database is not found', u'MenuName': 'EST', u'DbName': 'nucest'}, {u'Count': '4', u'Status': 'Ok', u'MenuName': 'Protein', u'DbName': 'protein'}, {u'Count': '0', u'Status': 'Term or Database is not found', u'MenuName': 'Genome', u'DbName': 'genome'}, {u'Count': '5', u'Status': 'Ok', u'MenuName': 'Structure', u'DbName': 'structure'}, {u'Count': '0', u'Status': 'Term or Database is not found', u'MenuName': 'Taxonomy', u'DbName': 'taxonomy'}, {u'Count': '0', u'Status': 'Term or Database is not found', u'MenuName': 'SNP', u'DbName': 'snp'}, {u'Count': '157', u'Status': 'Ok', u'MenuName': 'dbVar', u'DbName': 'dbvar'}, {u'Count': '297', u'Status': 'Ok', u'MenuName': 'Gene', u'DbName': 'gene'}, {u'Count': '0', u'Status': 'Term or Database is not found', u'MenuName': 'SRA', u'DbName': 'sra'}, {u'Count': '0', u'Status': 'Term or Database is not found', u'MenuName': 'BioSystems', u'DbName': 'biosystems'}, {u'Count': '0', u'Status': 'Term or Database is not found', u'MenuName': 'UniGene', u'DbName': 'unigene'}, {u'Count': '0', u'Status': 'Term or Database is not found', u'MenuName': 'Conserved Domains', u'DbName': 'cdd'}, {u'Count': '0', u'Status': 'Term or Database is not found', u'MenuName': 'Clone', u'DbName': 'clone'}, {u'Count': '0', u'Status': 'Term or Database is not found', u'MenuName': 'PopSet', u'DbName': 'popset'}, {u'Count': '0', u'Status': 'Term or Database is not found', u'MenuName': 'GEO Profiles', u'DbName': 'geoprofiles'}, {u'Count': '5', u'Status': 'Ok', u'MenuName': 'GEO DataSets', u'DbName': 'gds'}, {u'Count': '0', u'Status': 'Term or Database is not found', u'MenuName': 'HomoloGene', u'DbName': 'homologene'}, {u'Count': '0', u'Status': 'Term or Database is not found', u'MenuName': 'PubChem Compound', u'DbName': 'pccompound'}, {u'Count': '0', u'Status': 'Term or Database is not found', u'MenuName': 'PubChem Substance', u'DbName': 'pcsubstance'}, {u'Count': '61', u'Status': 'Ok', u'MenuName': 'PubChem BioAssay', u'DbName': 'pcassay'}, {u'Count': '7', u'Status': 'Ok', u'MenuName': 'NLM Catalog', u'DbName': 'nlmcatalog'}, {u'Count': '0', u'Status': 'Term or Database is not found', u'MenuName': 'Probe', u'DbName': 'probe'}, {u'Count': '127', u'Status': 'Ok', u'MenuName': 'dbGaP', u'DbName': 'gap'}, {u'Count': '2', u'Status': 'Ok', u'MenuName': 'Protein Clusters', u'DbName': 'proteinclusters'}, {u'Count': '7', u'Status': 'Ok', u'MenuName': 'BioProject', u'DbName': 'bioproject'}, {u'Count': '0', u'Status': 'Term or Database is not found', u'MenuName': 'BioSample', u'DbName': 'biosample'}, {u'Count': '3', u'Status': 'Ok', u'MenuName': 'BioCollections', u'DbName': 'biocollections'}]}\n"
     ]
    }
   ],
   "source": [
    "print(record)"
   ]
  },
  {
   "cell_type": "code",
   "execution_count": 5,
   "metadata": {
    "collapsed": false
   },
   "outputs": [
    {
     "name": "stdout",
     "output_type": "stream",
     "text": [
      "{u'Count': '5680', u'Status': 'Ok', u'MenuName': 'PubMed', u'DbName': 'pubmed'}\n",
      "5680\n"
     ]
    }
   ],
   "source": [
    "maxn = 0\n",
    "for row in record[\"eGQueryResult\"]:\n",
    "    if row[\"DbName\"] == \"pubmed\":\n",
    "        print(row)\n",
    "        maxn = row['Count']\n",
    "print(maxn)        "
   ]
  },
  {
   "cell_type": "markdown",
   "metadata": {},
   "source": [
    "## Only search pubmed"
   ]
  },
  {
   "cell_type": "code",
   "execution_count": 6,
   "metadata": {
    "collapsed": true
   },
   "outputs": [],
   "source": [
    "# Only search pubmed\n",
    "\n",
    "qu = en.esearch(db=\"pubmed\", term=skey, retmax=maxn)\n",
    "#qu = en.esearch(db=\"pubmed\", term=skey) # 如果沒有加入retmax的話，只會回傳20個\n",
    "re = en.read(qu)\n",
    "qu.close()"
   ]
  },
  {
   "cell_type": "code",
   "execution_count": 7,
   "metadata": {
    "collapsed": false
   },
   "outputs": [
    {
     "data": {
      "text/plain": [
       "[u'Count',\n",
       " u'RetMax',\n",
       " u'IdList',\n",
       " u'TranslationStack',\n",
       " u'TranslationSet',\n",
       " u'RetStart',\n",
       " u'QueryTranslation']"
      ]
     },
     "execution_count": 7,
     "metadata": {},
     "output_type": "execute_result"
    }
   ],
   "source": [
    "re.keys()"
   ]
  },
  {
   "cell_type": "code",
   "execution_count": 8,
   "metadata": {
    "collapsed": false
   },
   "outputs": [
    {
     "data": {
      "text/plain": [
       "5680"
      ]
     },
     "execution_count": 8,
     "metadata": {},
     "output_type": "execute_result"
    }
   ],
   "source": [
    "idList = re[\"IdList\"]\n",
    "len(idList)"
   ]
  },
  {
   "cell_type": "code",
   "execution_count": 9,
   "metadata": {
    "collapsed": false
   },
   "outputs": [
    {
     "data": {
      "text/plain": [
       "['28917648',\n",
       " '28910150',\n",
       " '28903369',\n",
       " '28894015',\n",
       " '28871992',\n",
       " '28871989',\n",
       " '28861089',\n",
       " '28796729',\n",
       " '28789346',\n",
       " '28743036']"
      ]
     },
     "execution_count": 9,
     "metadata": {},
     "output_type": "execute_result"
    }
   ],
   "source": [
    "idList[0:10]"
   ]
  },
  {
   "cell_type": "markdown",
   "metadata": {
    "collapsed": true
   },
   "source": [
    "### 讀取單一文獻"
   ]
  },
  {
   "cell_type": "code",
   "execution_count": 10,
   "metadata": {
    "collapsed": true
   },
   "outputs": [],
   "source": [
    "handle = en.efetch(db=\"pubmed\", id=\"28910150\", rettype=\"gb\", retmode=\"text\")\n",
    "paper = handle.read()"
   ]
  },
  {
   "cell_type": "code",
   "execution_count": 11,
   "metadata": {
    "collapsed": false,
    "scrolled": true
   },
   "outputs": [
    {
     "name": "stdout",
     "output_type": "stream",
     "text": [
      "\n",
      "1. Cancer Biother Radiopharm. 2017 Sep;32(7):258-265.\n",
      "\n",
      "Phase I/II Trial of Anticarcinoembryonic Antigen Radioimmunotherapy, Gemcitabine,\n",
      "and Hepatic Arterial Infusion of Fluorodeoxyuridine Postresection of Liver\n",
      "Metastasis for Colorectal Carcinoma.\n",
      "\n",
      "Cahan B(1), Leong L(1), Wagman L(1), Yamauchi D(1), Shibata S(1), Wilzcynski\n",
      "S(1), Williams LE(1), Yazaki P(1), Colcher D(1), Frankel P(1), Wu A(1),\n",
      "Raubitschek A(1), Shively J(1), Wong JYC(1).\n",
      "\n",
      "Author information: \n",
      "(1)Department of Radiation Oncology, City of Hope National Medical Center ,\n",
      "Duarte, California.\n",
      "\n",
      "OBJECTIVES: Report the feasibility, toxicities, and long-term results of a Phase \n",
      "I/II trial of (90)Y-labeled anticarcinoembryonic antigen (anti-CEA) (cT84.66)\n",
      "radioimmunotherapy (RIT), gemcitabine, and hepatic arterial infusion (HAI) of\n",
      "fluorodeoxyuridine (FUdR) after maximal hepatic resection of metastatic\n",
      "colorectal cancer to the liver.\n",
      "METHODS: Patients with metastatic colorectal cancer to the liver postresection or\n",
      "ablation to minimum disease were eligible. Each cohort received HAI of FUdR for\n",
      "14 days on a dose escalation schedule. The maximum HAI FUdR dose level planned\n",
      "was 0.2 mg/kg/day, which is the standard dose for HAI FUdR alone. On day 9,\n",
      "(90)Y-cT84.66 anti-CEA at 16.6 mCi/m(2) as an i.v. bolus infusion and on days\n",
      "9-11 i.v. gemcitabine at 105 mg/m(2) were given. Patients could receive up to\n",
      "three cycles every 6 weeks of protocol therapy. Four additional cycles of HAI\n",
      "FUdR were allowed after RIT.\n",
      "RESULTS: Sixteen patients were treated on this study. A maximum tolerated dose of\n",
      "0.20 mg/kg/day of HAI FUdR combined with RIT at 16.6 mCi/m(2) and gemcitabine at \n",
      "105 mg/m(2) was achieved with only 1 patient experiencing grade 3 reversible\n",
      "toxicity (mucositis). After surgery, 10 patients had no evidence of visible\n",
      "disease and remained without evidence of disease after completion of protocol\n",
      "therapy. The remaining 6 patients demonstrated radiological visible disease after\n",
      "surgery and after protocol therapy 2 patients had a CR, 1 patient had PR, 2 had\n",
      "stable disease, and 1 had progression. With a median follow-up of 41.8 months\n",
      "(18.7-114.6), median progression free survival was 9.6 months. Two patients\n",
      "demonstrated long-term disease control out to 45+ and 113+ months.\n",
      "CONCLUSION: This study demonstrates the safety, feasibility, and potential\n",
      "utility of HAI FUdR, RIT, and systemic gemcitabine. The trimodality approach does\n",
      "not have higher hematologic toxicities than seen in prior RIT-alone studies.\n",
      "Future efforts evaluating RIT in colorectal cancer should integrate RIT with\n",
      "systemic and regional therapies in the minimal tumor burden setting.\n",
      "\n",
      "\n",
      "PMID: 28910150 \n",
      "\n",
      "\n"
     ]
    }
   ],
   "source": [
    "print(paper)"
   ]
  },
  {
   "cell_type": "code",
   "execution_count": 12,
   "metadata": {
    "collapsed": false
   },
   "outputs": [
    {
     "data": {
      "text/plain": [
       "str"
      ]
     },
     "execution_count": 12,
     "metadata": {},
     "output_type": "execute_result"
    }
   ],
   "source": [
    "type(paper)"
   ]
  },
  {
   "cell_type": "code",
   "execution_count": null,
   "metadata": {
    "collapsed": true
   },
   "outputs": [],
   "source": []
  }
 ],
 "metadata": {
  "kernelspec": {
   "display_name": "Python 2",
   "language": "python",
   "name": "python2"
  },
  "language_info": {
   "codemirror_mode": {
    "name": "ipython",
    "version": 2
   },
   "file_extension": ".py",
   "mimetype": "text/x-python",
   "name": "python",
   "nbconvert_exporter": "python",
   "pygments_lexer": "ipython2",
   "version": "2.7.10"
  }
 },
 "nbformat": 4,
 "nbformat_minor": 2
}
